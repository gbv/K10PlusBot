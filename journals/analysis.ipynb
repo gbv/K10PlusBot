{
 "cells": [
  {
   "cell_type": "markdown",
   "metadata": {},
   "source": [
    "Mapping K10plus Journals and Wikidata\n",
    "=====================================\n",
    "\n",
    "Journal records\n",
    "---------------\n",
    "\n",
    "Wikidata contains more than 100.000 items about academic journals (and\n",
    "more about other kinds of periodicals):"
   ]
  },
  {
   "cell_type": "code",
   "execution_count": null,
   "metadata": {},
   "outputs": [
    {
     "output_type": "stream",
     "name": "stdout",
     "text": [
      "101605\n"
     ]
    }
   ],
   "source": [
    "echo \"SELECT (COUNT(?j) AS ?c) { ?j wdt:P31/wdt:P279* wd:Q5633421 }\" | wd s /dev/stdin"
   ]
  },
  {
   "cell_type": "markdown",
   "metadata": {},
   "source": [
    "Only some are also mapped to K10Plus:"
   ]
  },
  {
   "cell_type": "code",
   "execution_count": null,
   "metadata": {},
   "outputs": [
    {
     "output_type": "stream",
     "name": "stdout",
     "text": [
      "3\n"
     ]
    }
   ],
   "source": [
    "echo \"SELECT (COUNT(?j) AS ?c) { ?j wdt:P31/wdt:P279* wd:Q5633421 .  ?j wdt:P6721 [] }\" | wd s /dev/stdin"
   ]
  },
  {
   "cell_type": "markdown",
   "metadata": {},
   "source": [
    "Journal Identifiers\n",
    "-------------------\n",
    "\n",
    "Wikidata contains around 60 types of [identifiers for academic\n",
    "journals](http://www.wikidata.org/entity/Q57589544):"
   ]
  },
  {
   "cell_type": "code",
   "execution_count": null,
   "metadata": {},
   "outputs": [
    {
     "output_type": "stream",
     "name": "stdout",
     "text": [
      "Wikidata property for authority control for academic journals (Q57589544) ↑↑\n",
      " -ZDB ID (P1042)\n",
      " -NLM Unique ID (P1055)\n",
      " -ERA Journal ID (P1058)\n",
      " -Scopus source ID (P1156)\n",
      " -CODEN (P1159)\n",
      " -ISO 4 abbreviation (P1160)\n",
      " -Z39.5 abbreviation (P1161)\n",
      " -JSTOR journal ID (P1230)\n",
      " -Danish Bibliometric Research Indicator (BFI) SNO/CNO (P1250)\n",
      " -Norwegian Register journal ID (P1270)\n",
      " -Norway Import Service and Registration Authority periodical code (P1272)\n",
      " -JUFO ID (P1277)\n",
      " -Dialnet journal ID (P1609)\n",
      " -ZooBank publication ID (P2007)\n",
      " -IPNI publication ID (P2008)\n",
      " -Persée journal ID (P2733)\n",
      " -Research Papers in Economics Series handle (P2761)\n",
      " -Latindex ID (P3127)\n",
      " -Redalyc journal ID (P3131)\n",
      " -OpenCitations bibliographic resource ID (P3181)\n",
      " -PhilPapers publication ID (P3236)\n",
      " -ERIH PLUS ID (P3434)\n",
      " -BHL bibliography ID (P4327)\n",
      " -BPH journal ID (P4569)\n",
      " -UniProt journal ID (P4616)\n",
      " -Cairn publication ID (P4700)\n",
      " -Érudit journal ID (P4722)\n",
      " -Mir@bel journal ID (P4730)\n",
      " -OpenEdition journal ID (P4741)\n",
      " -Harvard botanical journal ID (P4754)\n",
      " -Tropicos publication ID (P4904)\n",
      " -Directory of Open Access Journals ID (P5115)\n",
      " -MUSE journal ID (P5559)\n",
      " -Mathematical Reviews journal ID (P5867)\n",
      " -Elsevier journal ID (P5963)\n",
      " -SAGE journal ID (P5966)\n",
      " -Springer journal ID (P5983)\n",
      " -BioOne journal ID (P6143)\n",
      " -Dimensions Source ID (P6180)\n",
      " -African Journals Online  journal ID (P6183)\n",
      " -Sabinet journal ID (P6189)\n",
      " -Microsoft Academic ID (P6366)\n",
      " -ACNP journal ID (P6981)\n",
      " -JournalBase ID (P7368)\n",
      " -EconBiz publication ID (P7408)\n",
      " -Publons journals/conferences ID (P7461)\n",
      " -Neliti Journal ID (P7473)\n",
      " -Scilit journal ID (P7662)\n",
      " -ACM Journal ID (P7983)\n",
      " -EZB ID (P8089)\n",
      " -JournalTOCs ID (P8100)\n",
      " -Paperity journal ID (P8104)\n",
      " -Web of Science ID (P8372)\n",
      " -Crossref journal ID (P8375)\n",
      " -BHF magazine ID (P8541)\n",
      " -CTHS publication ID (P8553)\n",
      " -MTMT journal ID (P8774)\n",
      " -HAL journal id (P8903)\n",
      " -DBLP venue ID (P8926)\n"
     ]
    }
   ],
   "source": [
    "wdtaxonomy -i Q57589544"
   ]
  },
  {
   "cell_type": "markdown",
   "metadata": {},
   "source": [
    "Most of interest are [ZDB-ID](http://www.wikidata.org/entity/P1042),\n",
    "[OCLC number](http://www.wikidata.org/entity/P243), and\n",
    "[ISSN](http://www.wikidata.org/entity/P7363) because these number are\n",
    "also used in K10plus:\n",
    "\n",
    "ZDB-ID:"
   ]
  },
  {
   "cell_type": "code",
   "execution_count": null,
   "metadata": {},
   "outputs": [
    {
     "output_type": "stream",
     "name": "stdout",
     "text": [
      "2477\n"
     ]
    }
   ],
   "source": [
    "echo \"SELECT (COUNT(?j) AS ?c) { ?j wdt:P1042 [] }\" | wd s /dev/stdin"
   ]
  },
  {
   "cell_type": "markdown",
   "metadata": {},
   "source": [
    "OCLC-ID:"
   ]
  },
  {
   "cell_type": "code",
   "execution_count": null,
   "metadata": {},
   "outputs": [
    {
     "output_type": "stream",
     "name": "stdout",
     "text": [
      "101707\n"
     ]
    }
   ],
   "source": [
    "echo \"SELECT (COUNT(?j) AS ?c) { ?j wdt:P243 [] }\" | wd s /dev/stdin"
   ]
  },
  {
   "cell_type": "markdown",
   "metadata": {},
   "source": [
    "ISSN-L (groups multiple publication types under one ISSN, normal ISSN\n",
    "may also be of interest):"
   ]
  },
  {
   "cell_type": "code",
   "execution_count": null,
   "metadata": {},
   "outputs": [
    {
     "output_type": "stream",
     "name": "stdout",
     "text": [
      "124695\n"
     ]
    }
   ],
   "source": [
    "echo \"SELECT (COUNT(?j) AS ?c) { ?j wdt:P7363 [] }\" | wd s /dev/stdin"
   ]
  }
 ],
 "nbformat": 4,
 "nbformat_minor": 5,
 "metadata": {}
}

